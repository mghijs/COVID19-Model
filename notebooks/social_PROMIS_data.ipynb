{
 "cells": [
  {
   "cell_type": "markdown",
   "metadata": {},
   "source": [
    "Social coupling: mental health effect of COVID-19 measures\n",
    "====\n",
    "\n",
    "This notebook revolves around the analysis of data on the social and mental effect of the (Belgian) government COVID-19 measures."
   ]
  },
  {
   "cell_type": "markdown",
   "metadata": {},
   "source": [
    "## Tools"
   ]
  },
  {
   "cell_type": "code",
   "execution_count": null,
   "metadata": {
    "code_folding": [
     0
    ]
   },
   "outputs": [],
   "source": [
    "# imports\n",
    "import pandas as pd\n",
    "import numpy as np\n",
    "import matplotlib.pyplot as plt\n",
    "%matplotlib inline\n",
    "import seaborn as sns\n",
    "import datetime"
   ]
  },
  {
   "cell_type": "markdown",
   "metadata": {},
   "source": [
    "## PROMIS data metnal health\n",
    "In this section, the investigation is on mental health data, in [PROMIS scale](http://www.healthmeasures.net/score-and-interpret/interpret-scores/promis/reference-populations), that was gathered during the lockdown by Melanie Beeckman and colleagues.\n",
    "\n",
    "An overview of the questionnaire and its variables is given in `docs/social/survey_items_wave3.docx`."
   ]
  },
  {
   "cell_type": "markdown",
   "metadata": {},
   "source": [
    "### Reading"
   ]
  },
  {
   "cell_type": "code",
   "execution_count": null,
   "metadata": {},
   "outputs": [],
   "source": [
    "# read data\n",
    "rawdata = pd.read_csv('../data/raw/social/Gedrag_welzijn_data_WAVE3.csv', sep=';', encoding='utf-16')\n",
    "# # create time stamps of data\n",
    "for ind, val in enumerate(rawdata['datestamp']):\n",
    "    if val[1]=='/': #correct for bad readings\n",
    "        rawdata.loc[ind, 'datestamp'] = '0'+rawdata.loc[ind, 'datestamp']\n",
    "# set index\n",
    "rawdata.index = pd.to_datetime(rawdata['datestamp'], format='%m/%d/%Y %H:%M:%S')\n",
    "\n",
    "# set values to numeric where possible\n",
    "for c  in rawdata.columns:\n",
    "    try:\n",
    "        rawdata[c] = pd.to_numeric(rawdata[c], errors='coerce')\n",
    "    except:\n",
    "        pass"
   ]
  },
  {
   "cell_type": "code",
   "execution_count": null,
   "metadata": {},
   "outputs": [],
   "source": [
    "# example plot of data\n",
    "fig, ax = plt.subplots(figsize=(14,4))\n",
    "ax.plot(rawdata['Slaap_tot_T'], '*')"
   ]
  },
  {
   "cell_type": "code",
   "execution_count": null,
   "metadata": {},
   "outputs": [],
   "source": [
    "# check questionnaire variable names\n",
    "for c in rawdata_wav1.columns:\n",
    "    print(c)"
   ]
  },
  {
   "cell_type": "markdown",
   "metadata": {},
   "source": [
    "### Analysis"
   ]
  },
  {
   "cell_type": "code",
   "execution_count": null,
   "metadata": {},
   "outputs": [],
   "source": [
    "# select data for correlations\n",
    "df4corr = rawdata_wav1\n",
    "# compute correlations\n",
    "dfcorr = df4corr.corr(method='spearman')\n",
    "#select the highest correlations\n",
    "dfcorr4plot = dfcorr#[np.abs(dfcorr)>0.6]"
   ]
  },
  {
   "cell_type": "code",
   "execution_count": null,
   "metadata": {},
   "outputs": [],
   "source": [
    "fig, ax = plt.subplots(figsize=(20,20))\n",
    "ax = sns.heatmap(dfcorr4plot, ax=ax, cmap='BrBG', annot=False, vmin=-1, vmax=1, )\n",
    "ax.tick_params(labelsize='large')"
   ]
  },
  {
   "cell_type": "markdown",
   "metadata": {},
   "source": []
  }
 ],
 "metadata": {
  "hide_input": false,
  "kernelspec": {
   "display_name": "Python 3",
   "language": "python",
   "name": "python3"
  },
  "language_info": {
   "codemirror_mode": {
    "name": "ipython",
    "version": 3
   },
   "file_extension": ".py",
   "mimetype": "text/x-python",
   "name": "python",
   "nbconvert_exporter": "python",
   "pygments_lexer": "ipython3",
   "version": "3.7.1"
  },
  "latex_envs": {
   "LaTeX_envs_menu_present": true,
   "autoclose": false,
   "autocomplete": true,
   "bibliofile": "biblio.bib",
   "cite_by": "apalike",
   "current_citInitial": 1,
   "eqLabelWithNumbers": true,
   "eqNumInitial": 1,
   "hotkeys": {
    "equation": "Ctrl-E",
    "itemize": "Ctrl-I"
   },
   "labels_anchors": false,
   "latex_user_defs": false,
   "report_style_numbering": false,
   "user_envs_cfg": false
  },
  "toc": {
   "base_numbering": 1,
   "nav_menu": {},
   "number_sections": true,
   "sideBar": true,
   "skip_h1_title": true,
   "title_cell": "Table of Contents",
   "title_sidebar": "Contents",
   "toc_cell": false,
   "toc_position": {},
   "toc_section_display": true,
   "toc_window_display": false
  }
 },
 "nbformat": 4,
 "nbformat_minor": 2
}
